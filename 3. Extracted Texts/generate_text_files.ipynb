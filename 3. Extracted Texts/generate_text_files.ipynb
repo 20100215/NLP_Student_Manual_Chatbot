{
 "cells": [
  {
   "cell_type": "code",
   "execution_count": 4,
   "metadata": {},
   "outputs": [],
   "source": [
    "import csv\n",
    "import os\n",
    "\n",
    "def generate_text_files(csv_file):\n",
    "    with open(csv_file, 'r') as file:\n",
    "        reader = csv.reader(file)\n",
    "        next(reader)  # Skip header if exists\n",
    "        for row in reader:\n",
    "            id = row[0]\n",
    "            name = row[3]  \n",
    "            file_path = f\"{id}-{name}.txt\"\n",
    "            # Check if the file doesn't exist to avoid overwriting existing files\n",
    "            if not os.path.exists(file_path):\n",
    "                with open(file_path, 'w'):\n",
    "                    pass  # Creates an empty file\n",
    "\n",
    "# Replace 'input.csv' with the path to your CSV file\n",
    "generate_text_files('topics.csv')"
   ]
  },
  {
   "cell_type": "code",
   "execution_count": null,
   "metadata": {},
   "outputs": [],
   "source": [
    "print()"
   ]
  }
 ],
 "metadata": {
  "kernelspec": {
   "display_name": "Python 3",
   "language": "python",
   "name": "python3"
  },
  "language_info": {
   "codemirror_mode": {
    "name": "ipython",
    "version": 3
   },
   "file_extension": ".py",
   "mimetype": "text/x-python",
   "name": "python",
   "nbconvert_exporter": "python",
   "pygments_lexer": "ipython3",
   "version": "3.10.11"
  }
 },
 "nbformat": 4,
 "nbformat_minor": 2
}
