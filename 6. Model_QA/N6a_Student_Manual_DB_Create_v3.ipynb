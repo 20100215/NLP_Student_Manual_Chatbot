{
  "nbformat": 4,
  "nbformat_minor": 0,
  "metadata": {
    "colab": {
      "provenance": [],
      "gpuType": "T4"
    },
    "kernelspec": {
      "name": "python3",
      "display_name": "Python 3"
    },
    "language_info": {
      "name": "python"
    },
    "accelerator": "GPU"
  },
  "cells": [
    {
      "cell_type": "code",
      "execution_count": 12,
      "metadata": {
        "id": "clqEBDvBp9eK"
      },
      "outputs": [],
      "source": [
        "!pip -q install langchain langchain_community langchain-groq tiktoken chromadb huggingface_hub transformers sentence-transformers einops"
      ]
    },
    {
      "cell_type": "code",
      "source": [
        "!pip show langchain"
      ],
      "metadata": {
        "colab": {
          "base_uri": "https://localhost:8080/"
        },
        "id": "VvEMuRXGL5jt",
        "outputId": "8119a3bf-8756-495f-caa8-6a2f1e4d12c4"
      },
      "execution_count": 13,
      "outputs": [
        {
          "output_type": "stream",
          "name": "stdout",
          "text": [
            "Name: langchain\n",
            "Version: 0.1.20\n",
            "Summary: Building applications with LLMs through composability\n",
            "Home-page: https://github.com/langchain-ai/langchain\n",
            "Author: \n",
            "Author-email: \n",
            "License: MIT\n",
            "Location: /usr/local/lib/python3.10/dist-packages\n",
            "Requires: aiohttp, async-timeout, dataclasses-json, langchain-community, langchain-core, langchain-text-splitters, langsmith, numpy, pydantic, PyYAML, requests, SQLAlchemy, tenacity\n",
            "Required-by: \n"
          ]
        }
      ]
    },
    {
      "cell_type": "markdown",
      "source": [
        "# LangChain multi-doc retriever with ChromaDB\n",
        "\n",
        "***New Points***\n",
        "- Multiple Texts\n",
        "- Embedding\n",
        "- ChromaDB\n",
        "- QA Chain\n",
        "- Source info"
      ],
      "metadata": {
        "id": "7AnZQpL_IZZZ"
      }
    },
    {
      "cell_type": "markdown",
      "source": [
        "## Setting up LangChain\n"
      ],
      "metadata": {
        "id": "HqwsGJDhvAQ5"
      }
    },
    {
      "cell_type": "code",
      "source": [
        "from langchain.vectorstores import Chroma\n",
        "from langchain_community.embeddings import HuggingFaceEmbeddings\n",
        "from langchain_community.llms import HuggingFaceHub\n",
        "from langchain.text_splitter import RecursiveCharacterTextSplitter\n",
        "from langchain.llms import OpenAI\n",
        "from langchain.chains import RetrievalQA\n",
        "from langchain.document_loaders import TextLoader\n",
        "from langchain.document_loaders import DirectoryLoader\n",
        "from langchain_groq import ChatGroq\n",
        "from glob import glob\n",
        "import os\n",
        "import tiktoken\n"
      ],
      "metadata": {
        "id": "XHVE9uFb3Ajj"
      },
      "execution_count": 14,
      "outputs": []
    },
    {
      "cell_type": "markdown",
      "source": [
        "## Models to use"
      ],
      "metadata": {
        "id": "5B4m44bbSq8x"
      }
    },
    {
      "cell_type": "code",
      "source": [
        "embedding_name = 'nomic-ai/nomic-embed-text-v1.5'"
      ],
      "metadata": {
        "id": "McSTx1mRSqiC"
      },
      "execution_count": 15,
      "outputs": []
    },
    {
      "cell_type": "code",
      "source": [
        "# Load embedding\n",
        "model_kwargs = {'trust_remote_code': True}\n",
        "embedding = HuggingFaceEmbeddings(model_name=embedding_name, model_kwargs=model_kwargs)"
      ],
      "metadata": {
        "id": "hqy5TbbQTM3o",
        "colab": {
          "base_uri": "https://localhost:8080/"
        },
        "outputId": "6a9f1169-04d6-445e-a114-a7eb021805ca"
      },
      "execution_count": 16,
      "outputs": [
        {
          "output_type": "stream",
          "name": "stderr",
          "text": [
            "WARNING:transformers_modules.nomic-ai.nomic-bert-2048.7b260c5676ce4ba4a117f15bc24ac13ab4b81695.modeling_hf_nomic_bert:<All keys matched successfully>\n"
          ]
        }
      ]
    },
    {
      "cell_type": "markdown",
      "source": [
        "## Load multiple and process documents"
      ],
      "metadata": {
        "id": "9UcQKUId3X2M"
      }
    },
    {
      "cell_type": "code",
      "source": [
        "# Initialize documents and path\n",
        "documents = []\n",
        "root  = os.getcwd()\n",
        "\n",
        "# Sort the file names\n",
        "paths = sorted(glob('*.txt'))\n",
        "\n",
        "# Copy each file to new file\n",
        "for path in paths:\n",
        "  loader = TextLoader(path)\n",
        "  document = loader.load()\n",
        "  documents.extend(document)"
      ],
      "metadata": {
        "id": "PRSeXXc_3Ypj"
      },
      "execution_count": 17,
      "outputs": []
    },
    {
      "cell_type": "code",
      "source": [
        "# Initialize tiktoken\n",
        "enc = tiktoken.get_encoding(\"cl100k_base\")\n",
        "def length_function(text: str) -> int:\n",
        "    return len(enc.encode(text))"
      ],
      "metadata": {
        "id": "gYWUuf95Kmci"
      },
      "execution_count": 18,
      "outputs": []
    },
    {
      "cell_type": "code",
      "source": [
        "#splitting the text into\n",
        "\n",
        "text_splitter = RecursiveCharacterTextSplitter(chunk_size=1000, chunk_overlap=200, length_function=length_function)\n",
        "texts = text_splitter.split_documents(documents)"
      ],
      "metadata": {
        "id": "3__nT0D4Fkmg"
      },
      "execution_count": 19,
      "outputs": []
    },
    {
      "cell_type": "code",
      "source": [
        "len(texts)"
      ],
      "metadata": {
        "id": "TlU5AlqY4gwj",
        "colab": {
          "base_uri": "https://localhost:8080/"
        },
        "outputId": "c5c93aea-07b3-4360-8808-6780ad93bd83"
      },
      "execution_count": 20,
      "outputs": [
        {
          "output_type": "execute_result",
          "data": {
            "text/plain": [
              "130"
            ]
          },
          "metadata": {},
          "execution_count": 20
        }
      ]
    },
    {
      "cell_type": "code",
      "source": [
        "for text in texts:\n",
        "  print(text.metadata)"
      ],
      "metadata": {
        "id": "Bg6-9jwU4ja_",
        "colab": {
          "base_uri": "https://localhost:8080/"
        },
        "outputId": "d32e96c9-60fe-4ca6-9524-221340184994"
      },
      "execution_count": 21,
      "outputs": [
        {
          "output_type": "stream",
          "name": "stdout",
          "text": [
            "{'source': 'A00-Abbreviations.txt'}\n",
            "{'source': 'A01-Description.txt'}\n",
            "{'source': 'A02-Catholic Identity, Vision Mission and Core Values.txt'}\n",
            "{'source': 'A03-The University Seal.txt'}\n",
            "{'source': 'A04-History.txt'}\n",
            "{'source': 'A04-History.txt'}\n",
            "{'source': 'A05-University Saints.txt'}\n",
            "{'source': 'A05-University Saints.txt'}\n",
            "{'source': 'A06-USC Organizational Structure.txt'}\n",
            "{'source': 'A07-Admission.txt'}\n",
            "{'source': 'A08-Admission Steps for Freshmen.txt'}\n",
            "{'source': 'A09-Admission Steps for International Students.txt'}\n",
            "{'source': 'A10-Admission Steps for Transferee.txt'}\n",
            "{'source': 'A11-Admission Steps for Graduate Students.txt'}\n",
            "{'source': 'A12-Admission Steps for Juris Doctor.txt'}\n",
            "{'source': 'A13-College Entrance Examination.txt'}\n",
            "{'source': 'A14-Post-Admission Enrollment Requirements.txt'}\n",
            "{'source': 'A14-Post-Admission Enrollment Requirements.txt'}\n",
            "{'source': 'A14-Post-Admission Enrollment Requirements.txt'}\n",
            "{'source': 'A15-Post-Admission Enrollment Steps.txt'}\n",
            "{'source': 'A16-Enrollment Mechanics.txt'}\n",
            "{'source': 'A17-Enrollment Timeline.txt'}\n",
            "{'source': 'A18-Enrollment Steps for Continuing Students.txt'}\n",
            "{'source': 'A19-Enrollment Concerns.txt'}\n",
            "{'source': 'A20-Course Accreditation.txt'}\n",
            "{'source': 'A21-Course Override.txt'}\n",
            "{'source': 'A22-Course Equivalency (In-Lieu).txt'}\n",
            "{'source': 'A23-Overload.txt'}\n",
            "{'source': 'A24-Simultaneous Enrollment.txt'}\n",
            "{'source': 'A25-Tutorial and Petition.txt'}\n",
            "{'source': 'A26-Course Withdrawal.txt'}\n",
            "{'source': 'A27-Additional Enrollment Steps (Returnee).txt'}\n",
            "{'source': 'A28-Additional Enrollment Steps (Shiftee).txt'}\n",
            "{'source': 'A29-Additional Enrollment Steps (Returnee-shiftee).txt'}\n",
            "{'source': 'A30-Additional Enrollment Steps (Scholarship and Financial Assistance).txt'}\n",
            "{'source': 'A31-Fee Discounts.txt'}\n",
            "{'source': 'A32-Transferring out of USC.txt'}\n",
            "{'source': 'A33-USC Email and Canvas.txt'}\n",
            "{'source': 'A34-Fees and Fees Adjustments.txt'}\n",
            "{'source': 'A35-Curricular and Non-Curricular Requirements.txt'}\n",
            "{'source': 'A35-Curricular and Non-Curricular Requirements.txt'}\n",
            "{'source': 'A35-Curricular and Non-Curricular Requirements.txt'}\n",
            "{'source': 'A36-General Courses.txt'}\n",
            "{'source': 'A37-Academic Performance and Grading System.txt'}\n",
            "{'source': 'A37-Academic Performance and Grading System.txt'}\n",
            "{'source': 'A38-Scholarships, Grants, and Loans (USC-SVE, StuFAP, and SGLs).txt'}\n",
            "{'source': 'A39-Graduation.txt'}\n",
            "{'source': 'A40-CHL Rationale and Aims.txt'}\n",
            "{'source': 'A41-Recognition and Previleges.txt'}\n",
            "{'source': 'A42-Qualification and percentage distribution.txt'}\n",
            "{'source': 'A43-Process and Computation.txt'}\n",
            "{'source': 'A44-CHL Awards for Commencement Rites.txt'}\n",
            "{'source': 'A45-Rationale of Discipline and positive School Climate.txt'}\n",
            "{'source': 'A46-Code of Conduct for Students.txt'}\n",
            "{'source': 'A46-Code of Conduct for Students.txt'}\n",
            "{'source': 'A46-Code of Conduct for Students.txt'}\n",
            "{'source': 'A47-Civilian Attire and Grooming.txt'}\n",
            "{'source': 'A48-Progressive and Positive Discipline Policy.txt'}\n",
            "{'source': 'A48-Progressive and Positive Discipline Policy.txt'}\n",
            "{'source': 'A49-University-Wide Discipline and Persons in Authority.txt'}\n",
            "{'source': 'A50-Categories and Ranking of Offenses.txt'}\n",
            "{'source': 'A50-Categories and Ranking of Offenses.txt'}\n",
            "{'source': 'A51-List of Offenses.txt'}\n",
            "{'source': 'A51-List of Offenses.txt'}\n",
            "{'source': 'A51-List of Offenses.txt'}\n",
            "{'source': 'A51-List of Offenses.txt'}\n",
            "{'source': 'A51-List of Offenses.txt'}\n",
            "{'source': 'A52-Clearance and Hold Orders.txt'}\n",
            "{'source': 'A53-Guidelines for Ensuring Discipline and Due Process.txt'}\n",
            "{'source': 'A54-Policy for Pregnant Women.txt'}\n",
            "{'source': 'A55-Jurisdiction.txt'}\n",
            "{'source': 'A56-Sanctions.txt'}\n",
            "{'source': 'A57-Student Organization Registration and Supervision.txt'}\n",
            "{'source': 'A58-Educational Tours and Field Trips.txt'}\n",
            "{'source': 'A59-Quality Policy.txt'}\n",
            "{'source': 'A60-Directory of Student Support Services and Programs Part 1.txt'}\n",
            "{'source': 'A60-Directory of Student Support Services and Programs Part 1.txt'}\n",
            "{'source': 'A60-Directory of Student Support Services and Programs Part 1.txt'}\n",
            "{'source': 'A61-Directory of Student Support Services and Programs Part 2.txt'}\n",
            "{'source': 'A61-Directory of Student Support Services and Programs Part 2.txt'}\n",
            "{'source': 'A61-Directory of Student Support Services and Programs Part 2.txt'}\n",
            "{'source': 'A62-Directory of Academic Programs and Departments Part 1.txt'}\n",
            "{'source': 'A62-Directory of Academic Programs and Departments Part 1.txt'}\n",
            "{'source': 'A62-Directory of Academic Programs and Departments Part 1.txt'}\n",
            "{'source': 'A63-Directory of Academic Programs and Departments Part 2.txt'}\n",
            "{'source': 'A63-Directory of Academic Programs and Departments Part 2.txt'}\n",
            "{'source': 'A64-Motor Vehicle Pass Application.txt'}\n",
            "{'source': 'A65-Motor Vehicle Rules and Guidelines.txt'}\n",
            "{'source': 'B01-BA Anthropology.txt'}\n",
            "{'source': 'B02-BA Communication Major in Media.txt'}\n",
            "{'source': 'B03-BA English Language Studies.txt'}\n",
            "{'source': 'B04-BA Literary and Cultural Studies with Creative Writing.txt'}\n",
            "{'source': 'B05-BA Political Science IRFS Track.txt'}\n",
            "{'source': 'B06-BA Political Science LPS Track.txt'}\n",
            "{'source': 'B07-B Fine Arts - Advertising Arts.txt'}\n",
            "{'source': 'B08-B Fine Arts - Cinema.txt'}\n",
            "{'source': 'B09-B Philosophy.txt'}\n",
            "{'source': 'B10-BS Accountancy.txt'}\n",
            "{'source': 'B11-BS Applied Physics.txt'}\n",
            "{'source': 'B12-BS Architecture.txt'}\n",
            "{'source': 'B13-BS Biology.txt'}\n",
            "{'source': 'B14-BS Business Administration Major in Finance Management.txt'}\n",
            "{'source': 'B15-BS Business Administration Major in Human Resource Management.txt'}\n",
            "{'source': 'B16-BS Business Administration Major in Marketing Management.txt'}\n",
            "{'source': 'B17-BS Business Administration Major in Operations Management.txt'}\n",
            "{'source': 'B18-BS Chemical Engineering.txt'}\n",
            "{'source': 'B19-BS Chemistry.txt'}\n",
            "{'source': 'B20-BS Civil Engineering.txt'}\n",
            "{'source': 'B21-BS Computer Engineering.txt'}\n",
            "{'source': 'B22-BS Computer Science.txt'}\n",
            "{'source': 'B23-BS Economics.txt'}\n",
            "{'source': 'B24-BS Electrical Engineering.txt'}\n",
            "{'source': 'B25-BS Electronics Engineering.txt'}\n",
            "{'source': 'B26-BS Entrepreneurship.txt'}\n",
            "{'source': 'B27-BS Hospitality Management.txt'}\n",
            "{'source': 'B28-BS Industrial Engineering.txt'}\n",
            "{'source': 'B29-BS Information Systems.txt'}\n",
            "{'source': 'B30-BS Information Technology.txt'}\n",
            "{'source': 'B31-BS Interior Design.txt'}\n",
            "{'source': 'B32-B Landscape Architecture.txt'}\n",
            "{'source': 'B33-BS Management Accounting.txt'}\n",
            "{'source': 'B34-BS Marine Biology.txt'}\n",
            "{'source': 'B35-BS Mechanical Engineering.txt'}\n",
            "{'source': 'B36-BS Nursing.txt'}\n",
            "{'source': 'B37-BS Nutrition and Dietetics.txt'}\n",
            "{'source': 'B38-BS Pharmacy.txt'}\n",
            "{'source': 'B39-BS Psychology.txt'}\n",
            "{'source': 'B40-BS Tourism Management.txt'}\n",
            "{'source': 'B41-B Secondary Education Major in Science.txt'}\n",
            "{'source': 'B42-B Special Needs Education with specialization in Early Childhood Education.txt'}\n"
          ]
        }
      ]
    },
    {
      "cell_type": "markdown",
      "source": [
        "## Create the DB"
      ],
      "metadata": {
        "id": "YsYsIy8F4cdm"
      }
    },
    {
      "cell_type": "code",
      "source": [
        "# Embed and store the texts\n",
        "# Supplying a persist_directory will store the embeddings on disk\n",
        "persist_directory = 'db_1000_200-tiktoken'\n",
        "\n",
        "vectordb = Chroma.from_documents(documents=texts,\n",
        "                                 embedding=embedding,\n",
        "                                 persist_directory=persist_directory)"
      ],
      "metadata": {
        "id": "Q_eTIZwf4Dk2"
      },
      "execution_count": 22,
      "outputs": []
    },
    {
      "cell_type": "code",
      "source": [
        "# persiste the db to disk\n",
        "vectordb.persist()"
      ],
      "metadata": {
        "id": "uRfD_Te-47lb"
      },
      "execution_count": 23,
      "outputs": []
    }
  ]
}