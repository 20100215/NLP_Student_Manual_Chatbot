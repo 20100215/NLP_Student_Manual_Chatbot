{
 "cells": [
  {
   "cell_type": "code",
   "execution_count": 2,
   "metadata": {},
   "outputs": [],
   "source": [
    "# Import modules\n",
    "import os\n",
    "from glob import glob\n",
    "import tiktoken\n",
    "enc = tiktoken.get_encoding(\"cl100k_base\")"
   ]
  },
  {
   "cell_type": "code",
   "execution_count": 3,
   "metadata": {},
   "outputs": [],
   "source": [
    "# Navigate to the directory\n",
    "root  = os.path.join(os.getcwd(), 'Rearranged Order/')"
   ]
  },
  {
   "cell_type": "code",
   "execution_count": 4,
   "metadata": {},
   "outputs": [],
   "source": [
    "# Sort the file names \n",
    "paths = sorted(glob(root+'*.txt'))"
   ]
  },
  {
   "cell_type": "code",
   "execution_count": 5,
   "metadata": {},
   "outputs": [
    {
     "data": {
      "text/plain": [
       "['A00-Abbreviations.txt',\n",
       " 'A01-Description.txt',\n",
       " 'A02-Catholic Identity, Vision Mission and Core Values.txt',\n",
       " 'A03-The University Seal.txt',\n",
       " 'A04-History.txt',\n",
       " 'A05-University Saints.txt',\n",
       " 'A06-USC Organizational Structure.txt',\n",
       " 'A07-Admission.txt',\n",
       " 'A08-Admission Steps for Freshmen.txt',\n",
       " 'A09-Admission Steps for International Students.txt',\n",
       " 'A10-Admission Steps for Transferee.txt',\n",
       " 'A11-Admission Steps for Graduate Students.txt',\n",
       " 'A12-Admission Steps for Juris Doctor.txt',\n",
       " 'A13-College Entrance Examination.txt',\n",
       " 'A14-Post-Admission Enrollment Requirements.txt',\n",
       " 'A15-Post-Admission Enrollment Steps.txt',\n",
       " 'A16-Enrollment Mechanics.txt',\n",
       " 'A17-Enrollment Timeline.txt',\n",
       " 'A18-Enrollment Steps for Continuing Students.txt',\n",
       " 'A19-Enrollment Concerns.txt',\n",
       " 'A20-Course Accreditation.txt',\n",
       " 'A21-Course Override.txt',\n",
       " 'A22-Course Equivalency (In-Lieu).txt',\n",
       " 'A23-Overload.txt',\n",
       " 'A24-Simultaneous Enrollment.txt',\n",
       " 'A25-Tutorial and Petition.txt',\n",
       " 'A26-Course Withdrawal.txt',\n",
       " 'A27-Additional Enrollment Steps (Returnee).txt',\n",
       " 'A28-Additional Enrollment Steps (Shiftee).txt',\n",
       " 'A29-Additional Enrollment Steps (Returnee-shiftee).txt',\n",
       " 'A30-Additional Enrollment Steps (Scholarship and Financial Assistance).txt',\n",
       " 'A31-Fee Discounts.txt',\n",
       " 'A32-Transferring out of USC.txt',\n",
       " 'A33-USC Email and Canvas.txt',\n",
       " 'A34-Fees and Fees Adjustments.txt',\n",
       " 'A35-Curricular and Non-Curricular Requirements.txt',\n",
       " 'A36-General Courses.txt',\n",
       " 'A37-Academic Performance and Grading System.txt',\n",
       " 'A38-Scholarships, Grants, and Loans (USC-SVE, StuFAP, and SGLs).txt',\n",
       " 'A39-Graduation.txt',\n",
       " 'A40-CHL Rationale and Aims.txt',\n",
       " 'A41-Recognition and Previleges.txt',\n",
       " 'A42-Qualification and percentage distribution.txt',\n",
       " 'A43-Process and Computation.txt',\n",
       " 'A44-CHL Awards for Commencement Rites.txt',\n",
       " 'A45-Rationale of Discipline and positive School Climate.txt',\n",
       " 'A46-Code of Conduct for Students.txt',\n",
       " 'A47-Civilian Attire and Grooming.txt',\n",
       " 'A48-Progressive and Positive Discipline Policy.txt',\n",
       " 'A49-University-Wide Discipline and Persons in Authority.txt',\n",
       " 'A50-Categories and Ranking of Offenses.txt',\n",
       " 'A51-List of Offenses.txt',\n",
       " 'A52-Clearance and Hold Orders.txt',\n",
       " 'A53-Guidelines for Ensuring Discipline and Due Process.txt',\n",
       " 'A54-Policy for Pregnant Women.txt',\n",
       " 'A55-Jurisdiction.txt',\n",
       " 'A56-Sanctions.txt',\n",
       " 'A57-Student Organization Registration and Supervision.txt',\n",
       " 'A58-Educational Tours and Field Trips.txt',\n",
       " 'A59-Quality Policy.txt',\n",
       " 'A60-Directory of Student Support Services and Programs Part 1.txt',\n",
       " 'A61-Directory of Student Support Services and Programs Part 2.txt',\n",
       " 'A62-Directory of Academic Programs and Departments Part 1.txt',\n",
       " 'A63-Directory of Academic Programs and Departments Part 2.txt',\n",
       " 'A64-Motor Vehicle Pass Application.txt',\n",
       " 'A65-Motor Vehicle Rules and Guidelines.txt',\n",
       " 'B01-BA Anthropology.txt',\n",
       " 'B02-BA Communication Major in Media.txt',\n",
       " 'B03-BA English Language Studies.txt',\n",
       " 'B04-BA Literary and Cultural Studies with Creative Writing.txt',\n",
       " 'B05-BA Political Science IRFS Track.txt',\n",
       " 'B06-BA Political Science LPS Track.txt',\n",
       " 'B07-B Fine Arts - Advertising Arts.txt',\n",
       " 'B08-B Fine Arts - Cinema.txt',\n",
       " 'B09-B Philosophy.txt',\n",
       " 'B10-BS Accountancy.txt',\n",
       " 'B11-BS Applied Physics.txt',\n",
       " 'B12-BS Architecture.txt',\n",
       " 'B13-BS Biology.txt',\n",
       " 'B14-BS Business Administration Major in Finance Management.txt',\n",
       " 'B15-BS Business Administration Major in Human Resource Management.txt',\n",
       " 'B16-BS Business Administration Major in Marketing Management.txt',\n",
       " 'B17-BS Business Administration Major in Operations Management.txt',\n",
       " 'B18-BS Chemical Engineering.txt',\n",
       " 'B19-BS Chemistry.txt',\n",
       " 'B20-BS Civil Engineering.txt',\n",
       " 'B21-BS Computer Engineering.txt',\n",
       " 'B22-BS Computer Science.txt',\n",
       " 'B23-BS Economics.txt',\n",
       " 'B24-BS Electrical Engineering.txt',\n",
       " 'B25-BS Electronics Engineering.txt',\n",
       " 'B26-BS Entrepreneurship.txt',\n",
       " 'B27-BS Hospitality Management.txt',\n",
       " 'B28-BS Industrial Engineering.txt',\n",
       " 'B29-BS Information Systems.txt',\n",
       " 'B30-BS Information Technology.txt',\n",
       " 'B31-BS Interior Design.txt',\n",
       " 'B32-B Landscape Architecture.txt',\n",
       " 'B33-BS Management Accounting.txt',\n",
       " 'B34-BS Marine Biology.txt',\n",
       " 'B35-BS Mechanical Engineering.txt',\n",
       " 'B36-BS Nursing.txt',\n",
       " 'B37-BS Nutrition and Dietetics.txt',\n",
       " 'B38-BS Pharmacy.txt',\n",
       " 'B39-BS Psychology.txt',\n",
       " 'B40-BS Tourism Management.txt',\n",
       " 'B41-B Secondary Education Major in Science.txt',\n",
       " 'B42-B Special Needs Education with specialization in Early Childhood Education.txt']"
      ]
     },
     "execution_count": 5,
     "metadata": {},
     "output_type": "execute_result"
    }
   ],
   "source": [
    "all_paths = [path.split('\\\\')[-1] for path in paths]\n",
    "all_paths"
   ]
  },
  {
   "cell_type": "code",
   "execution_count": 6,
   "metadata": {},
   "outputs": [],
   "source": [
    "# Initialize lengths\n",
    "lengths = []\n",
    "token_lengths = []"
   ]
  },
  {
   "cell_type": "code",
   "execution_count": 7,
   "metadata": {},
   "outputs": [],
   "source": [
    "# Initialize new file:\n",
    "new_file = 'USC Student Manual and Enrollment Guide.txt'\n",
    "with open(new_file, 'w'):\n",
    "  pass"
   ]
  },
  {
   "cell_type": "code",
   "execution_count": 8,
   "metadata": {},
   "outputs": [
    {
     "name": "stdout",
     "output_type": "stream",
     "text": [
      "c:\\Users\\Marc\\Desktop\\NLP_Student_Manual_Chatbot\\4. Text Analysis\\Rearranged Order\\A00-Abbreviations.txt\n",
      "c:\\Users\\Marc\\Desktop\\NLP_Student_Manual_Chatbot\\4. Text Analysis\\Rearranged Order\\A01-Description.txt\n",
      "c:\\Users\\Marc\\Desktop\\NLP_Student_Manual_Chatbot\\4. Text Analysis\\Rearranged Order\\A02-Catholic Identity, Vision Mission and Core Values.txt\n",
      "c:\\Users\\Marc\\Desktop\\NLP_Student_Manual_Chatbot\\4. Text Analysis\\Rearranged Order\\A03-The University Seal.txt\n",
      "c:\\Users\\Marc\\Desktop\\NLP_Student_Manual_Chatbot\\4. Text Analysis\\Rearranged Order\\A04-History.txt\n",
      "c:\\Users\\Marc\\Desktop\\NLP_Student_Manual_Chatbot\\4. Text Analysis\\Rearranged Order\\A05-University Saints.txt\n",
      "c:\\Users\\Marc\\Desktop\\NLP_Student_Manual_Chatbot\\4. Text Analysis\\Rearranged Order\\A06-USC Organizational Structure.txt\n",
      "c:\\Users\\Marc\\Desktop\\NLP_Student_Manual_Chatbot\\4. Text Analysis\\Rearranged Order\\A07-Admission.txt\n",
      "c:\\Users\\Marc\\Desktop\\NLP_Student_Manual_Chatbot\\4. Text Analysis\\Rearranged Order\\A08-Admission Steps for Freshmen.txt\n",
      "c:\\Users\\Marc\\Desktop\\NLP_Student_Manual_Chatbot\\4. Text Analysis\\Rearranged Order\\A09-Admission Steps for International Students.txt\n",
      "c:\\Users\\Marc\\Desktop\\NLP_Student_Manual_Chatbot\\4. Text Analysis\\Rearranged Order\\A10-Admission Steps for Transferee.txt\n",
      "c:\\Users\\Marc\\Desktop\\NLP_Student_Manual_Chatbot\\4. Text Analysis\\Rearranged Order\\A11-Admission Steps for Graduate Students.txt\n",
      "c:\\Users\\Marc\\Desktop\\NLP_Student_Manual_Chatbot\\4. Text Analysis\\Rearranged Order\\A12-Admission Steps for Juris Doctor.txt\n",
      "c:\\Users\\Marc\\Desktop\\NLP_Student_Manual_Chatbot\\4. Text Analysis\\Rearranged Order\\A13-College Entrance Examination.txt\n",
      "c:\\Users\\Marc\\Desktop\\NLP_Student_Manual_Chatbot\\4. Text Analysis\\Rearranged Order\\A14-Post-Admission Enrollment Requirements.txt\n",
      "c:\\Users\\Marc\\Desktop\\NLP_Student_Manual_Chatbot\\4. Text Analysis\\Rearranged Order\\A15-Post-Admission Enrollment Steps.txt\n",
      "c:\\Users\\Marc\\Desktop\\NLP_Student_Manual_Chatbot\\4. Text Analysis\\Rearranged Order\\A16-Enrollment Mechanics.txt\n",
      "c:\\Users\\Marc\\Desktop\\NLP_Student_Manual_Chatbot\\4. Text Analysis\\Rearranged Order\\A17-Enrollment Timeline.txt\n",
      "c:\\Users\\Marc\\Desktop\\NLP_Student_Manual_Chatbot\\4. Text Analysis\\Rearranged Order\\A18-Enrollment Steps for Continuing Students.txt\n",
      "c:\\Users\\Marc\\Desktop\\NLP_Student_Manual_Chatbot\\4. Text Analysis\\Rearranged Order\\A19-Enrollment Concerns.txt\n",
      "c:\\Users\\Marc\\Desktop\\NLP_Student_Manual_Chatbot\\4. Text Analysis\\Rearranged Order\\A20-Course Accreditation.txt\n",
      "c:\\Users\\Marc\\Desktop\\NLP_Student_Manual_Chatbot\\4. Text Analysis\\Rearranged Order\\A21-Course Override.txt\n",
      "c:\\Users\\Marc\\Desktop\\NLP_Student_Manual_Chatbot\\4. Text Analysis\\Rearranged Order\\A22-Course Equivalency (In-Lieu).txt\n",
      "c:\\Users\\Marc\\Desktop\\NLP_Student_Manual_Chatbot\\4. Text Analysis\\Rearranged Order\\A23-Overload.txt\n",
      "c:\\Users\\Marc\\Desktop\\NLP_Student_Manual_Chatbot\\4. Text Analysis\\Rearranged Order\\A24-Simultaneous Enrollment.txt\n",
      "c:\\Users\\Marc\\Desktop\\NLP_Student_Manual_Chatbot\\4. Text Analysis\\Rearranged Order\\A25-Tutorial and Petition.txt\n",
      "c:\\Users\\Marc\\Desktop\\NLP_Student_Manual_Chatbot\\4. Text Analysis\\Rearranged Order\\A26-Course Withdrawal.txt\n",
      "c:\\Users\\Marc\\Desktop\\NLP_Student_Manual_Chatbot\\4. Text Analysis\\Rearranged Order\\A27-Additional Enrollment Steps (Returnee).txt\n",
      "c:\\Users\\Marc\\Desktop\\NLP_Student_Manual_Chatbot\\4. Text Analysis\\Rearranged Order\\A28-Additional Enrollment Steps (Shiftee).txt\n",
      "c:\\Users\\Marc\\Desktop\\NLP_Student_Manual_Chatbot\\4. Text Analysis\\Rearranged Order\\A29-Additional Enrollment Steps (Returnee-shiftee).txt\n",
      "c:\\Users\\Marc\\Desktop\\NLP_Student_Manual_Chatbot\\4. Text Analysis\\Rearranged Order\\A30-Additional Enrollment Steps (Scholarship and Financial Assistance).txt\n",
      "c:\\Users\\Marc\\Desktop\\NLP_Student_Manual_Chatbot\\4. Text Analysis\\Rearranged Order\\A31-Fee Discounts.txt\n",
      "c:\\Users\\Marc\\Desktop\\NLP_Student_Manual_Chatbot\\4. Text Analysis\\Rearranged Order\\A32-Transferring out of USC.txt\n",
      "c:\\Users\\Marc\\Desktop\\NLP_Student_Manual_Chatbot\\4. Text Analysis\\Rearranged Order\\A33-USC Email and Canvas.txt\n",
      "c:\\Users\\Marc\\Desktop\\NLP_Student_Manual_Chatbot\\4. Text Analysis\\Rearranged Order\\A34-Fees and Fees Adjustments.txt\n",
      "c:\\Users\\Marc\\Desktop\\NLP_Student_Manual_Chatbot\\4. Text Analysis\\Rearranged Order\\A35-Curricular and Non-Curricular Requirements.txt\n",
      "c:\\Users\\Marc\\Desktop\\NLP_Student_Manual_Chatbot\\4. Text Analysis\\Rearranged Order\\A36-General Courses.txt\n",
      "c:\\Users\\Marc\\Desktop\\NLP_Student_Manual_Chatbot\\4. Text Analysis\\Rearranged Order\\A37-Academic Performance and Grading System.txt\n",
      "c:\\Users\\Marc\\Desktop\\NLP_Student_Manual_Chatbot\\4. Text Analysis\\Rearranged Order\\A38-Scholarships, Grants, and Loans (USC-SVE, StuFAP, and SGLs).txt\n",
      "c:\\Users\\Marc\\Desktop\\NLP_Student_Manual_Chatbot\\4. Text Analysis\\Rearranged Order\\A39-Graduation.txt\n",
      "c:\\Users\\Marc\\Desktop\\NLP_Student_Manual_Chatbot\\4. Text Analysis\\Rearranged Order\\A40-CHL Rationale and Aims.txt\n",
      "c:\\Users\\Marc\\Desktop\\NLP_Student_Manual_Chatbot\\4. Text Analysis\\Rearranged Order\\A41-Recognition and Previleges.txt\n",
      "c:\\Users\\Marc\\Desktop\\NLP_Student_Manual_Chatbot\\4. Text Analysis\\Rearranged Order\\A42-Qualification and percentage distribution.txt\n",
      "c:\\Users\\Marc\\Desktop\\NLP_Student_Manual_Chatbot\\4. Text Analysis\\Rearranged Order\\A43-Process and Computation.txt\n",
      "c:\\Users\\Marc\\Desktop\\NLP_Student_Manual_Chatbot\\4. Text Analysis\\Rearranged Order\\A44-CHL Awards for Commencement Rites.txt\n",
      "c:\\Users\\Marc\\Desktop\\NLP_Student_Manual_Chatbot\\4. Text Analysis\\Rearranged Order\\A45-Rationale of Discipline and positive School Climate.txt\n",
      "c:\\Users\\Marc\\Desktop\\NLP_Student_Manual_Chatbot\\4. Text Analysis\\Rearranged Order\\A46-Code of Conduct for Students.txt\n",
      "c:\\Users\\Marc\\Desktop\\NLP_Student_Manual_Chatbot\\4. Text Analysis\\Rearranged Order\\A47-Civilian Attire and Grooming.txt\n",
      "c:\\Users\\Marc\\Desktop\\NLP_Student_Manual_Chatbot\\4. Text Analysis\\Rearranged Order\\A48-Progressive and Positive Discipline Policy.txt\n",
      "c:\\Users\\Marc\\Desktop\\NLP_Student_Manual_Chatbot\\4. Text Analysis\\Rearranged Order\\A49-University-Wide Discipline and Persons in Authority.txt\n",
      "c:\\Users\\Marc\\Desktop\\NLP_Student_Manual_Chatbot\\4. Text Analysis\\Rearranged Order\\A50-Categories and Ranking of Offenses.txt\n",
      "c:\\Users\\Marc\\Desktop\\NLP_Student_Manual_Chatbot\\4. Text Analysis\\Rearranged Order\\A51-List of Offenses.txt\n",
      "c:\\Users\\Marc\\Desktop\\NLP_Student_Manual_Chatbot\\4. Text Analysis\\Rearranged Order\\A52-Clearance and Hold Orders.txt\n",
      "c:\\Users\\Marc\\Desktop\\NLP_Student_Manual_Chatbot\\4. Text Analysis\\Rearranged Order\\A53-Guidelines for Ensuring Discipline and Due Process.txt\n",
      "c:\\Users\\Marc\\Desktop\\NLP_Student_Manual_Chatbot\\4. Text Analysis\\Rearranged Order\\A54-Policy for Pregnant Women.txt\n",
      "c:\\Users\\Marc\\Desktop\\NLP_Student_Manual_Chatbot\\4. Text Analysis\\Rearranged Order\\A55-Jurisdiction.txt\n",
      "c:\\Users\\Marc\\Desktop\\NLP_Student_Manual_Chatbot\\4. Text Analysis\\Rearranged Order\\A56-Sanctions.txt\n",
      "c:\\Users\\Marc\\Desktop\\NLP_Student_Manual_Chatbot\\4. Text Analysis\\Rearranged Order\\A57-Student Organization Registration and Supervision.txt\n",
      "c:\\Users\\Marc\\Desktop\\NLP_Student_Manual_Chatbot\\4. Text Analysis\\Rearranged Order\\A58-Educational Tours and Field Trips.txt\n",
      "c:\\Users\\Marc\\Desktop\\NLP_Student_Manual_Chatbot\\4. Text Analysis\\Rearranged Order\\A59-Quality Policy.txt\n",
      "c:\\Users\\Marc\\Desktop\\NLP_Student_Manual_Chatbot\\4. Text Analysis\\Rearranged Order\\A60-Directory of Student Support Services and Programs Part 1.txt\n",
      "c:\\Users\\Marc\\Desktop\\NLP_Student_Manual_Chatbot\\4. Text Analysis\\Rearranged Order\\A61-Directory of Student Support Services and Programs Part 2.txt\n",
      "c:\\Users\\Marc\\Desktop\\NLP_Student_Manual_Chatbot\\4. Text Analysis\\Rearranged Order\\A62-Directory of Academic Programs and Departments Part 1.txt\n",
      "c:\\Users\\Marc\\Desktop\\NLP_Student_Manual_Chatbot\\4. Text Analysis\\Rearranged Order\\A63-Directory of Academic Programs and Departments Part 2.txt\n",
      "c:\\Users\\Marc\\Desktop\\NLP_Student_Manual_Chatbot\\4. Text Analysis\\Rearranged Order\\A64-Motor Vehicle Pass Application.txt\n",
      "c:\\Users\\Marc\\Desktop\\NLP_Student_Manual_Chatbot\\4. Text Analysis\\Rearranged Order\\A65-Motor Vehicle Rules and Guidelines.txt\n",
      "c:\\Users\\Marc\\Desktop\\NLP_Student_Manual_Chatbot\\4. Text Analysis\\Rearranged Order\\B01-BA Anthropology.txt\n",
      "c:\\Users\\Marc\\Desktop\\NLP_Student_Manual_Chatbot\\4. Text Analysis\\Rearranged Order\\B02-BA Communication Major in Media.txt\n",
      "c:\\Users\\Marc\\Desktop\\NLP_Student_Manual_Chatbot\\4. Text Analysis\\Rearranged Order\\B03-BA English Language Studies.txt\n",
      "c:\\Users\\Marc\\Desktop\\NLP_Student_Manual_Chatbot\\4. Text Analysis\\Rearranged Order\\B04-BA Literary and Cultural Studies with Creative Writing.txt\n",
      "c:\\Users\\Marc\\Desktop\\NLP_Student_Manual_Chatbot\\4. Text Analysis\\Rearranged Order\\B05-BA Political Science IRFS Track.txt\n",
      "c:\\Users\\Marc\\Desktop\\NLP_Student_Manual_Chatbot\\4. Text Analysis\\Rearranged Order\\B06-BA Political Science LPS Track.txt\n",
      "c:\\Users\\Marc\\Desktop\\NLP_Student_Manual_Chatbot\\4. Text Analysis\\Rearranged Order\\B07-B Fine Arts - Advertising Arts.txt\n",
      "c:\\Users\\Marc\\Desktop\\NLP_Student_Manual_Chatbot\\4. Text Analysis\\Rearranged Order\\B08-B Fine Arts - Cinema.txt\n",
      "c:\\Users\\Marc\\Desktop\\NLP_Student_Manual_Chatbot\\4. Text Analysis\\Rearranged Order\\B09-B Philosophy.txt\n",
      "c:\\Users\\Marc\\Desktop\\NLP_Student_Manual_Chatbot\\4. Text Analysis\\Rearranged Order\\B10-BS Accountancy.txt\n",
      "c:\\Users\\Marc\\Desktop\\NLP_Student_Manual_Chatbot\\4. Text Analysis\\Rearranged Order\\B11-BS Applied Physics.txt\n",
      "c:\\Users\\Marc\\Desktop\\NLP_Student_Manual_Chatbot\\4. Text Analysis\\Rearranged Order\\B12-BS Architecture.txt\n",
      "c:\\Users\\Marc\\Desktop\\NLP_Student_Manual_Chatbot\\4. Text Analysis\\Rearranged Order\\B13-BS Biology.txt\n",
      "c:\\Users\\Marc\\Desktop\\NLP_Student_Manual_Chatbot\\4. Text Analysis\\Rearranged Order\\B14-BS Business Administration Major in Finance Management.txt\n",
      "c:\\Users\\Marc\\Desktop\\NLP_Student_Manual_Chatbot\\4. Text Analysis\\Rearranged Order\\B15-BS Business Administration Major in Human Resource Management.txt\n",
      "c:\\Users\\Marc\\Desktop\\NLP_Student_Manual_Chatbot\\4. Text Analysis\\Rearranged Order\\B16-BS Business Administration Major in Marketing Management.txt\n",
      "c:\\Users\\Marc\\Desktop\\NLP_Student_Manual_Chatbot\\4. Text Analysis\\Rearranged Order\\B17-BS Business Administration Major in Operations Management.txt\n",
      "c:\\Users\\Marc\\Desktop\\NLP_Student_Manual_Chatbot\\4. Text Analysis\\Rearranged Order\\B18-BS Chemical Engineering.txt\n",
      "c:\\Users\\Marc\\Desktop\\NLP_Student_Manual_Chatbot\\4. Text Analysis\\Rearranged Order\\B19-BS Chemistry.txt\n",
      "c:\\Users\\Marc\\Desktop\\NLP_Student_Manual_Chatbot\\4. Text Analysis\\Rearranged Order\\B20-BS Civil Engineering.txt\n",
      "c:\\Users\\Marc\\Desktop\\NLP_Student_Manual_Chatbot\\4. Text Analysis\\Rearranged Order\\B21-BS Computer Engineering.txt\n",
      "c:\\Users\\Marc\\Desktop\\NLP_Student_Manual_Chatbot\\4. Text Analysis\\Rearranged Order\\B22-BS Computer Science.txt\n",
      "c:\\Users\\Marc\\Desktop\\NLP_Student_Manual_Chatbot\\4. Text Analysis\\Rearranged Order\\B23-BS Economics.txt\n",
      "c:\\Users\\Marc\\Desktop\\NLP_Student_Manual_Chatbot\\4. Text Analysis\\Rearranged Order\\B24-BS Electrical Engineering.txt\n",
      "c:\\Users\\Marc\\Desktop\\NLP_Student_Manual_Chatbot\\4. Text Analysis\\Rearranged Order\\B25-BS Electronics Engineering.txt\n",
      "c:\\Users\\Marc\\Desktop\\NLP_Student_Manual_Chatbot\\4. Text Analysis\\Rearranged Order\\B26-BS Entrepreneurship.txt\n",
      "c:\\Users\\Marc\\Desktop\\NLP_Student_Manual_Chatbot\\4. Text Analysis\\Rearranged Order\\B27-BS Hospitality Management.txt\n",
      "c:\\Users\\Marc\\Desktop\\NLP_Student_Manual_Chatbot\\4. Text Analysis\\Rearranged Order\\B28-BS Industrial Engineering.txt\n",
      "c:\\Users\\Marc\\Desktop\\NLP_Student_Manual_Chatbot\\4. Text Analysis\\Rearranged Order\\B29-BS Information Systems.txt\n",
      "c:\\Users\\Marc\\Desktop\\NLP_Student_Manual_Chatbot\\4. Text Analysis\\Rearranged Order\\B30-BS Information Technology.txt\n",
      "c:\\Users\\Marc\\Desktop\\NLP_Student_Manual_Chatbot\\4. Text Analysis\\Rearranged Order\\B31-BS Interior Design.txt\n",
      "c:\\Users\\Marc\\Desktop\\NLP_Student_Manual_Chatbot\\4. Text Analysis\\Rearranged Order\\B32-B Landscape Architecture.txt\n",
      "c:\\Users\\Marc\\Desktop\\NLP_Student_Manual_Chatbot\\4. Text Analysis\\Rearranged Order\\B33-BS Management Accounting.txt\n",
      "c:\\Users\\Marc\\Desktop\\NLP_Student_Manual_Chatbot\\4. Text Analysis\\Rearranged Order\\B34-BS Marine Biology.txt\n",
      "c:\\Users\\Marc\\Desktop\\NLP_Student_Manual_Chatbot\\4. Text Analysis\\Rearranged Order\\B35-BS Mechanical Engineering.txt\n",
      "c:\\Users\\Marc\\Desktop\\NLP_Student_Manual_Chatbot\\4. Text Analysis\\Rearranged Order\\B36-BS Nursing.txt\n",
      "c:\\Users\\Marc\\Desktop\\NLP_Student_Manual_Chatbot\\4. Text Analysis\\Rearranged Order\\B37-BS Nutrition and Dietetics.txt\n",
      "c:\\Users\\Marc\\Desktop\\NLP_Student_Manual_Chatbot\\4. Text Analysis\\Rearranged Order\\B38-BS Pharmacy.txt\n",
      "c:\\Users\\Marc\\Desktop\\NLP_Student_Manual_Chatbot\\4. Text Analysis\\Rearranged Order\\B39-BS Psychology.txt\n",
      "c:\\Users\\Marc\\Desktop\\NLP_Student_Manual_Chatbot\\4. Text Analysis\\Rearranged Order\\B40-BS Tourism Management.txt\n",
      "c:\\Users\\Marc\\Desktop\\NLP_Student_Manual_Chatbot\\4. Text Analysis\\Rearranged Order\\B41-B Secondary Education Major in Science.txt\n",
      "c:\\Users\\Marc\\Desktop\\NLP_Student_Manual_Chatbot\\4. Text Analysis\\Rearranged Order\\B42-B Special Needs Education with specialization in Early Childhood Education.txt\n"
     ]
    }
   ],
   "source": [
    "# Copy each file to new file\n",
    "for path in paths:\n",
    "  with open(new_file, 'a') as out_, open(path, 'r') as in_:\n",
    "    print(path)\n",
    "    text = in_.read()\n",
    "    lengths.append(len(text))\n",
    "    token_lengths.append(len(enc.encode(text)))\n",
    "    out_.write(text + '\\n\\n\\n')"
   ]
  },
  {
   "cell_type": "code",
   "execution_count": 9,
   "metadata": {},
   "outputs": [],
   "source": [
    "import pandas as pd\n",
    "\n",
    "len_dict = {'articles': all_paths, 'char lengths':lengths, 'token lengths':token_lengths}\n",
    "df = pd.DataFrame(len_dict)"
   ]
  },
  {
   "cell_type": "code",
   "execution_count": 10,
   "metadata": {},
   "outputs": [
    {
     "data": {
      "text/html": [
       "<div>\n",
       "<style scoped>\n",
       "    .dataframe tbody tr th:only-of-type {\n",
       "        vertical-align: middle;\n",
       "    }\n",
       "\n",
       "    .dataframe tbody tr th {\n",
       "        vertical-align: top;\n",
       "    }\n",
       "\n",
       "    .dataframe thead th {\n",
       "        text-align: right;\n",
       "    }\n",
       "</style>\n",
       "<table border=\"1\" class=\"dataframe\">\n",
       "  <thead>\n",
       "    <tr style=\"text-align: right;\">\n",
       "      <th></th>\n",
       "      <th>articles</th>\n",
       "      <th>char lengths</th>\n",
       "      <th>token lengths</th>\n",
       "    </tr>\n",
       "  </thead>\n",
       "  <tbody>\n",
       "    <tr>\n",
       "      <th>0</th>\n",
       "      <td>A00-Abbreviations.txt</td>\n",
       "      <td>3655</td>\n",
       "      <td>707</td>\n",
       "    </tr>\n",
       "    <tr>\n",
       "      <th>1</th>\n",
       "      <td>A01-Description.txt</td>\n",
       "      <td>3508</td>\n",
       "      <td>723</td>\n",
       "    </tr>\n",
       "    <tr>\n",
       "      <th>2</th>\n",
       "      <td>A02-Catholic Identity, Vision Mission and Core...</td>\n",
       "      <td>4137</td>\n",
       "      <td>814</td>\n",
       "    </tr>\n",
       "    <tr>\n",
       "      <th>3</th>\n",
       "      <td>A03-The University Seal.txt</td>\n",
       "      <td>854</td>\n",
       "      <td>200</td>\n",
       "    </tr>\n",
       "    <tr>\n",
       "      <th>4</th>\n",
       "      <td>A04-History.txt</td>\n",
       "      <td>7722</td>\n",
       "      <td>1682</td>\n",
       "    </tr>\n",
       "    <tr>\n",
       "      <th>...</th>\n",
       "      <td>...</td>\n",
       "      <td>...</td>\n",
       "      <td>...</td>\n",
       "    </tr>\n",
       "    <tr>\n",
       "      <th>103</th>\n",
       "      <td>B38-BS Pharmacy.txt</td>\n",
       "      <td>3219</td>\n",
       "      <td>559</td>\n",
       "    </tr>\n",
       "    <tr>\n",
       "      <th>104</th>\n",
       "      <td>B39-BS Psychology.txt</td>\n",
       "      <td>2184</td>\n",
       "      <td>398</td>\n",
       "    </tr>\n",
       "    <tr>\n",
       "      <th>105</th>\n",
       "      <td>B40-BS Tourism Management.txt</td>\n",
       "      <td>3364</td>\n",
       "      <td>598</td>\n",
       "    </tr>\n",
       "    <tr>\n",
       "      <th>106</th>\n",
       "      <td>B41-B Secondary Education Major in Science.txt</td>\n",
       "      <td>2599</td>\n",
       "      <td>472</td>\n",
       "    </tr>\n",
       "    <tr>\n",
       "      <th>107</th>\n",
       "      <td>B42-B Special Needs Education with specializat...</td>\n",
       "      <td>3854</td>\n",
       "      <td>704</td>\n",
       "    </tr>\n",
       "  </tbody>\n",
       "</table>\n",
       "<p>108 rows × 3 columns</p>\n",
       "</div>"
      ],
      "text/plain": [
       "                                              articles  char lengths  \\\n",
       "0                                A00-Abbreviations.txt          3655   \n",
       "1                                  A01-Description.txt          3508   \n",
       "2    A02-Catholic Identity, Vision Mission and Core...          4137   \n",
       "3                          A03-The University Seal.txt           854   \n",
       "4                                      A04-History.txt          7722   \n",
       "..                                                 ...           ...   \n",
       "103                                B38-BS Pharmacy.txt          3219   \n",
       "104                              B39-BS Psychology.txt          2184   \n",
       "105                      B40-BS Tourism Management.txt          3364   \n",
       "106     B41-B Secondary Education Major in Science.txt          2599   \n",
       "107  B42-B Special Needs Education with specializat...          3854   \n",
       "\n",
       "     token lengths  \n",
       "0              707  \n",
       "1              723  \n",
       "2              814  \n",
       "3              200  \n",
       "4             1682  \n",
       "..             ...  \n",
       "103            559  \n",
       "104            398  \n",
       "105            598  \n",
       "106            472  \n",
       "107            704  \n",
       "\n",
       "[108 rows x 3 columns]"
      ]
     },
     "execution_count": 10,
     "metadata": {},
     "output_type": "execute_result"
    }
   ],
   "source": [
    "df"
   ]
  },
  {
   "cell_type": "code",
   "execution_count": 11,
   "metadata": {},
   "outputs": [
    {
     "data": {
      "text/html": [
       "<div>\n",
       "<style scoped>\n",
       "    .dataframe tbody tr th:only-of-type {\n",
       "        vertical-align: middle;\n",
       "    }\n",
       "\n",
       "    .dataframe tbody tr th {\n",
       "        vertical-align: top;\n",
       "    }\n",
       "\n",
       "    .dataframe thead th {\n",
       "        text-align: right;\n",
       "    }\n",
       "</style>\n",
       "<table border=\"1\" class=\"dataframe\">\n",
       "  <thead>\n",
       "    <tr style=\"text-align: right;\">\n",
       "      <th></th>\n",
       "      <th>articles</th>\n",
       "      <th>char lengths</th>\n",
       "      <th>token lengths</th>\n",
       "    </tr>\n",
       "  </thead>\n",
       "  <tbody>\n",
       "    <tr>\n",
       "      <th>51</th>\n",
       "      <td>A51-List of Offenses.txt</td>\n",
       "      <td>12378</td>\n",
       "      <td>2774</td>\n",
       "    </tr>\n",
       "    <tr>\n",
       "      <th>61</th>\n",
       "      <td>A61-Directory of Student Support Services and ...</td>\n",
       "      <td>11062</td>\n",
       "      <td>2310</td>\n",
       "    </tr>\n",
       "    <tr>\n",
       "      <th>46</th>\n",
       "      <td>A46-Code of Conduct for Students.txt</td>\n",
       "      <td>12157</td>\n",
       "      <td>2268</td>\n",
       "    </tr>\n",
       "    <tr>\n",
       "      <th>60</th>\n",
       "      <td>A60-Directory of Student Support Services and ...</td>\n",
       "      <td>10560</td>\n",
       "      <td>2177</td>\n",
       "    </tr>\n",
       "    <tr>\n",
       "      <th>14</th>\n",
       "      <td>A14-Post-Admission Enrollment Requirements.txt</td>\n",
       "      <td>10808</td>\n",
       "      <td>2172</td>\n",
       "    </tr>\n",
       "    <tr>\n",
       "      <th>35</th>\n",
       "      <td>A35-Curricular and Non-Curricular Requirements...</td>\n",
       "      <td>10184</td>\n",
       "      <td>2050</td>\n",
       "    </tr>\n",
       "    <tr>\n",
       "      <th>62</th>\n",
       "      <td>A62-Directory of Academic Programs and Departm...</td>\n",
       "      <td>7608</td>\n",
       "      <td>1785</td>\n",
       "    </tr>\n",
       "    <tr>\n",
       "      <th>37</th>\n",
       "      <td>A37-Academic Performance and Grading System.txt</td>\n",
       "      <td>7701</td>\n",
       "      <td>1779</td>\n",
       "    </tr>\n",
       "    <tr>\n",
       "      <th>4</th>\n",
       "      <td>A04-History.txt</td>\n",
       "      <td>7722</td>\n",
       "      <td>1682</td>\n",
       "    </tr>\n",
       "    <tr>\n",
       "      <th>63</th>\n",
       "      <td>A63-Directory of Academic Programs and Departm...</td>\n",
       "      <td>5818</td>\n",
       "      <td>1428</td>\n",
       "    </tr>\n",
       "  </tbody>\n",
       "</table>\n",
       "</div>"
      ],
      "text/plain": [
       "                                             articles  char lengths  \\\n",
       "51                           A51-List of Offenses.txt         12378   \n",
       "61  A61-Directory of Student Support Services and ...         11062   \n",
       "46               A46-Code of Conduct for Students.txt         12157   \n",
       "60  A60-Directory of Student Support Services and ...         10560   \n",
       "14     A14-Post-Admission Enrollment Requirements.txt         10808   \n",
       "35  A35-Curricular and Non-Curricular Requirements...         10184   \n",
       "62  A62-Directory of Academic Programs and Departm...          7608   \n",
       "37    A37-Academic Performance and Grading System.txt          7701   \n",
       "4                                     A04-History.txt          7722   \n",
       "63  A63-Directory of Academic Programs and Departm...          5818   \n",
       "\n",
       "    token lengths  \n",
       "51           2774  \n",
       "61           2310  \n",
       "46           2268  \n",
       "60           2177  \n",
       "14           2172  \n",
       "35           2050  \n",
       "62           1785  \n",
       "37           1779  \n",
       "4            1682  \n",
       "63           1428  "
      ]
     },
     "execution_count": 11,
     "metadata": {},
     "output_type": "execute_result"
    }
   ],
   "source": [
    "df.nlargest(10, 'token lengths')"
   ]
  },
  {
   "cell_type": "code",
   "execution_count": 12,
   "metadata": {},
   "outputs": [
    {
     "data": {
      "image/png": "[encoded data removed]",
      "text/plain": [
       "<Figure size 900x600 with 1 Axes>"
      ]
     },
     "metadata": {},
     "output_type": "display_data"
    }
   ],
   "source": [
    "import matplotlib.pyplot as plt\n",
    "import seaborn as sns\n",
    "plt.figure(figsize=[9,6])\n",
    "sns.lineplot(data=df[['char lengths', 'token lengths']], dashes=False)\n",
    "plt.legend()\n",
    "plt.show()"
   ]
  },
  {
   "cell_type": "code",
   "execution_count": 13,
   "metadata": {},
   "outputs": [
    {
     "name": "stdout",
     "output_type": "stream",
     "text": [
      "Number of articles with <=1000 tokens: 95\n"
     ]
    }
   ],
   "source": [
    "# Number of articles with <=1000 tokens\n",
    "print(f'Number of articles with <=1000 tokens: {len([i for i in token_lengths if i<=1000])}')"
   ]
  },
  {
   "cell_type": "code",
   "execution_count": 14,
   "metadata": {},
   "outputs": [
    {
     "name": "stdout",
     "output_type": "stream",
     "text": [
      "Number of articles with 1001-2000 tokens: 7\n"
     ]
    }
   ],
   "source": [
    "# Number of articles with 1000-2000 tokens\n",
    "print(f'Number of articles with 1001-2000 tokens: {len([i for i in token_lengths if i>1000 and i<=2000])}')"
   ]
  },
  {
   "cell_type": "code",
   "execution_count": 15,
   "metadata": {},
   "outputs": [
    {
     "name": "stdout",
     "output_type": "stream",
     "text": [
      "Number of articles with >2000 tokens: 6\n"
     ]
    }
   ],
   "source": [
    "# Number of articles with more than 2000 tokens\n",
    "print(f'Number of articles with >2000 tokens: {len([i for i in token_lengths if i>2000])}')"
   ]
  },
  {
   "cell_type": "code",
   "execution_count": 16,
   "metadata": {},
   "outputs": [
    {
     "name": "stdout",
     "output_type": "stream",
     "text": [
      "Total character length: 354600\n",
      "Total token length: 70009\n"
     ]
    }
   ],
   "source": [
    "# Get total character length\n",
    "print(f'Total character length: {sum(lengths)}')\n",
    "# Get total token lengths\n",
    "print(f'Total token length: {sum(token_lengths)}')"
   ]
  },
  {
   "cell_type": "code",
   "execution_count": 17,
   "metadata": {},
   "outputs": [
    {
     "name": "stdout",
     "output_type": "stream",
     "text": [
      "Saved to CSV!\n"
     ]
    }
   ],
   "source": [
    "df.to_csv('topic_lengths.csv')\n",
    "print('Saved to CSV!')"
   ]
  },
  {
   "cell_type": "code",
   "execution_count": 18,
   "metadata": {},
   "outputs": [
    {
     "data": {
      "text/html": [
       "<div>\n",
       "<style scoped>\n",
       "    .dataframe tbody tr th:only-of-type {\n",
       "        vertical-align: middle;\n",
       "    }\n",
       "\n",
       "    .dataframe tbody tr th {\n",
       "        vertical-align: top;\n",
       "    }\n",
       "\n",
       "    .dataframe thead th {\n",
       "        text-align: right;\n",
       "    }\n",
       "</style>\n",
       "<table border=\"1\" class=\"dataframe\">\n",
       "  <thead>\n",
       "    <tr style=\"text-align: right;\">\n",
       "      <th></th>\n",
       "      <th>Source</th>\n",
       "      <th>Article count</th>\n",
       "      <th>Total characters</th>\n",
       "      <th>Total tokens</th>\n",
       "    </tr>\n",
       "  </thead>\n",
       "  <tbody>\n",
       "    <tr>\n",
       "      <th>0</th>\n",
       "      <td>Student Manual</td>\n",
       "      <td>36</td>\n",
       "      <td>141323</td>\n",
       "      <td>28690</td>\n",
       "    </tr>\n",
       "    <tr>\n",
       "      <th>1</th>\n",
       "      <td>Enrollment Guide</td>\n",
       "      <td>22</td>\n",
       "      <td>51493</td>\n",
       "      <td>10521</td>\n",
       "    </tr>\n",
       "    <tr>\n",
       "      <th>2</th>\n",
       "      <td>Directories</td>\n",
       "      <td>4</td>\n",
       "      <td>35048</td>\n",
       "      <td>7700</td>\n",
       "    </tr>\n",
       "    <tr>\n",
       "      <th>3</th>\n",
       "      <td>ISMIS</td>\n",
       "      <td>2</td>\n",
       "      <td>7927</td>\n",
       "      <td>1553</td>\n",
       "    </tr>\n",
       "    <tr>\n",
       "      <th>4</th>\n",
       "      <td>FAQ Posts</td>\n",
       "      <td>2</td>\n",
       "      <td>6152</td>\n",
       "      <td>1261</td>\n",
       "    </tr>\n",
       "    <tr>\n",
       "      <th>5</th>\n",
       "      <td>UG Programs</td>\n",
       "      <td>42</td>\n",
       "      <td>112657</td>\n",
       "      <td>20284</td>\n",
       "    </tr>\n",
       "  </tbody>\n",
       "</table>\n",
       "</div>"
      ],
      "text/plain": [
       "             Source  Article count  Total characters  Total tokens\n",
       "0    Student Manual             36            141323         28690\n",
       "1  Enrollment Guide             22             51493         10521\n",
       "2       Directories              4             35048          7700\n",
       "3             ISMIS              2              7927          1553\n",
       "4         FAQ Posts              2              6152          1261\n",
       "5       UG Programs             42            112657         20284"
      ]
     },
     "execution_count": 18,
     "metadata": {},
     "output_type": "execute_result"
    }
   ],
   "source": [
    "# Group stats by source\n",
    "sources = ['Student Manual','Enrollment Guide','Directories','ISMIS','FAQ Posts','UG Programs']\n",
    "indices = [\n",
    "  [0,1,2,3,4,5,6,7,16,17,34,35,36,37,38,39,40,41,42,43,44,45,46,47,48,49,50,51,52,53,54,55,56,57,58,59],\n",
    "  [8,9,10,11,12,13,14,15,18,20,21,22,23,24,25,26,27,28,29,30,31,32],\n",
    "  [60,61,62,63],\n",
    "  [64,65],\n",
    "  [19,33],\n",
    "  list(range(66,108))\n",
    "]\n",
    "\n",
    "text_lengths_sources = []\n",
    "token_lengths_sources = []\n",
    "article_counts = []\n",
    "\n",
    "for i in range(len(indices)):\n",
    "  temp1 = [lengths[x] for x in indices[i]]\n",
    "  text_lengths_sources.append(sum(temp1))\n",
    "  temp2 = [token_lengths[x] for x in indices[i]]\n",
    "  token_lengths_sources.append(sum(temp2))\n",
    "  article_counts.append(len(indices[i]))\n",
    "\n",
    "df_sources_dict = {\n",
    "  'Source' : sources,\n",
    "  'Article count': article_counts,\n",
    "  'Total characters': text_lengths_sources,\n",
    "  'Total tokens': token_lengths_sources\n",
    "}\n",
    "\n",
    "df_sources = pd.DataFrame(df_sources_dict)\n",
    "df_sources.head(6)\n"
   ]
  },
  {
   "cell_type": "code",
   "execution_count": 19,
   "metadata": {},
   "outputs": [
    {
     "data": {
      "text/plain": [
       "<Axes: xlabel='Total tokens', ylabel='Source'>"
      ]
     },
     "execution_count": 19,
     "metadata": {},
     "output_type": "execute_result"
    },
    {
     "data": {
      "image/png": "[encoded data removed]",
      "text/plain": [
       "<Figure size 640x480 with 1 Axes>"
      ]
     },
     "metadata": {},
     "output_type": "display_data"
    }
   ],
   "source": [
    "import seaborn as sns\n",
    "\n",
    "df_sources.sort_values(by=['Total tokens'])\n",
    "sns.barplot(df_sources, y='Source', x='Total tokens')"
   ]
  },
  {
   "cell_type": "code",
   "execution_count": 20,
   "metadata": {},
   "outputs": [
    {
     "data": {
      "text/plain": [
       "<Axes: xlabel='Article count', ylabel='Source'>"
      ]
     },
     "execution_count": 20,
     "metadata": {},
     "output_type": "execute_result"
    },
    {
     "data": {
      "image/png": "[encoded data removed]",
      "text/plain": [
       "<Figure size 640x480 with 1 Axes>"
      ]
     },
     "metadata": {},
     "output_type": "display_data"
    }
   ],
   "source": [
    "sns.barplot(df_sources, y='Source', x='Article count')"
   ]
  },
  {
   "cell_type": "code",
   "execution_count": 22,
   "metadata": {},
   "outputs": [
    {
     "name": "stdout",
     "output_type": "stream",
     "text": [
      "Saved to CSV!\n"
     ]
    }
   ],
   "source": [
    "df_sources.to_csv('topic_lengths_sources.csv')\n",
    "print('Saved to CSV!')"
   ]
  }
 ],
 "metadata": {
  "kernelspec": {
   "display_name": "Python 3",
   "language": "python",
   "name": "python3"
  },
  "language_info": {
   "codemirror_mode": {
    "name": "ipython",
    "version": 3
   },
   "file_extension": ".py",
   "mimetype": "text/x-python",
   "name": "python",
   "nbconvert_exporter": "python",
   "pygments_lexer": "ipython3",
   "version": "3.10.11"
  }
 },
 "nbformat": 4,
 "nbformat_minor": 2
}
